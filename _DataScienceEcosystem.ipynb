{
 "cells": [
  {
   "cell_type": "markdown",
   "id": "0f77c992-470f-47f8-99f5-88ebb07cd790",
   "metadata": {},
   "source": [
    "# Data Science Tools and Ecosystem"
   ]
  },
  {
   "cell_type": "markdown",
   "id": "54b238cb-179e-4108-bdf0-5d1f5f28ba0a",
   "metadata": {},
   "source": [
    "* In this notebook, Data Science Tools and Ecosystem are summarized."
   ]
  },
  {
   "cell_type": "markdown",
   "id": "51fd83db-8015-41e7-b091-75e5e77ddb1c",
   "metadata": {},
   "source": [
    "Some of the popular languages that Data Scientists use are: \n",
    "1. R;\n",
    "2. Python;\n",
    "3. SQL;"
   ]
  },
  {
   "cell_type": "markdown",
   "id": "7dedccf3-49b6-450f-a3f7-03ec2584fcbc",
   "metadata": {},
   "source": [
    "Some of the commonly used libraries used by Data Scientists include:\n",
    "1. Pandas\n",
    "2. Matplotlib \n",
    "3. Seaborn"
   ]
  },
  {
   "cell_type": "markdown",
   "id": "665c841d-0b3c-4343-a34e-64767d259724",
   "metadata": {},
   "source": [
    "| Data Science Tools |\n",
    "--------------------------\n",
    "| MySQL |\n",
    "| Tableau| \n",
    "| Git |"
   ]
  },
  {
   "cell_type": "markdown",
   "id": "8f3085b6-b338-40f1-9aed-ed49e391d324",
   "metadata": {},
   "source": [
    "### Below are a few examples of evaluating arithmetic expressions in Python"
   ]
  },
  {
   "cell_type": "markdown",
   "id": "bbf5c3bc-0433-4b9a-a6dc-a79c0d6fd120",
   "metadata": {},
   "source": [
    " + This a simple arithmetic expression to mutiply then add integers"
   ]
  },
  {
   "cell_type": "code",
   "execution_count": 14,
   "id": "0a885162-48ab-49ac-8826-7400545aa943",
   "metadata": {},
   "outputs": [
    {
     "data": {
      "text/plain": [
       "17"
      ]
     },
     "execution_count": 14,
     "metadata": {},
     "output_type": "execute_result"
    }
   ],
   "source": [
    "(3*4)+5"
   ]
  },
  {
   "cell_type": "markdown",
   "id": "09055930-a79a-4690-98cb-82eece3cd6e0",
   "metadata": {},
   "source": [
    "+ This will convert 200 minutes to hours by diving by 60"
   ]
  },
  {
   "cell_type": "code",
   "execution_count": 20,
   "id": "c31b9cae-19b7-4478-a95e-13c1c05edd70",
   "metadata": {},
   "outputs": [
    {
     "data": {
      "text/plain": [
       "3.3333333333333335"
      ]
     },
     "execution_count": 20,
     "metadata": {},
     "output_type": "execute_result"
    }
   ],
   "source": [
    "200/60"
   ]
  },
  {
   "cell_type": "markdown",
   "id": "f7a1eaba-c05e-4a18-b37c-730afe55825d",
   "metadata": {},
   "source": [
    "**Objectives:**\n",
    "- Data Management -  storage, management and retrieval of data\n",
    "- Data Integration and Transformation - streamline data pipelines and automate data processing tasks\n",
    "- Data Visualization - provide graphical representation of data and assist with communicating insights\n",
    "- Modelling - enable Building, Deployment, Monitoring and Assessment of Data and Machine Learning models  \n"
   ]
  },
  {
   "cell_type": "markdown",
   "id": "7bbb12c6-097d-4f25-8f26-a7021258c256",
   "metadata": {},
   "source": [
    "## Author \n",
    "Anna Khrameshina"
   ]
  },
  {
   "cell_type": "code",
   "execution_count": null,
   "id": "f46fb447-f57b-48d2-b6a9-cb50cff90ef2",
   "metadata": {},
   "outputs": [],
   "source": []
  }
 ],
 "metadata": {
  "kernelspec": {
   "display_name": "Python 3 (ipykernel)",
   "language": "python",
   "name": "python3"
  },
  "language_info": {
   "codemirror_mode": {
    "name": "ipython",
    "version": 3
   },
   "file_extension": ".py",
   "mimetype": "text/x-python",
   "name": "python",
   "nbconvert_exporter": "python",
   "pygments_lexer": "ipython3",
   "version": "3.12.4"
  }
 },
 "nbformat": 4,
 "nbformat_minor": 5
}
